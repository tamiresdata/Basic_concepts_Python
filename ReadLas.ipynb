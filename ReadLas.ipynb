{
  "nbformat": 4,
  "nbformat_minor": 0,
  "metadata": {
    "colab": {
      "name": "ReadLas.ipynb",
      "provenance": []
    },
    "kernelspec": {
      "name": "python3",
      "display_name": "Python 3"
    },
    "language_info": {
      "name": "python"
    }
  },
  "cells": [
    {
      "cell_type": "code",
      "execution_count": 14,
      "metadata": {
        "colab": {
          "base_uri": "https://localhost:8080/"
        },
        "id": "9EzkQEbdqt5B",
        "outputId": "7cde35bd-338f-4fa0-875d-7465430ee725"
      },
      "outputs": [
        {
          "output_type": "stream",
          "name": "stdout",
          "text": [
            "Requirement already satisfied: lasio in /usr/local/lib/python3.7/dist-packages (0.30)\n",
            "Requirement already satisfied: numpy in /usr/local/lib/python3.7/dist-packages (from lasio) (1.21.6)\n"
          ]
        }
      ],
      "source": [
        "!pip install lasio\n",
        "import pandas as pd\n",
        "import matplotlib.pyplot as plt\n",
        "import lasio"
      ]
    },
    {
      "cell_type": "code",
      "source": [
        "las = lasio.read(\"15-9-19_SR_COMP.LAS\")"
      ],
      "metadata": {
        "id": "V8pAv_77tXC1"
      },
      "execution_count": 15,
      "outputs": []
    },
    {
      "cell_type": "code",
      "source": [
        "las.sections.keys()"
      ],
      "metadata": {
        "colab": {
          "base_uri": "https://localhost:8080/"
        },
        "id": "PgP2PEH-tlr7",
        "outputId": "aebbb139-317b-475d-c49a-5f1c3764e0dd"
      },
      "execution_count": 16,
      "outputs": [
        {
          "output_type": "execute_result",
          "data": {
            "text/plain": [
              "dict_keys(['Version', 'Well', 'Curves', 'Parameter', 'Other'])"
            ]
          },
          "metadata": {},
          "execution_count": 16
        }
      ]
    },
    {
      "cell_type": "code",
      "source": [
        "las.sections['Version']"
      ],
      "metadata": {
        "colab": {
          "base_uri": "https://localhost:8080/"
        },
        "id": "1Ws-h1nFtp6a",
        "outputId": "aae0956c-2284-4177-ca6a-2a97b760b3ec"
      },
      "execution_count": null,
      "outputs": [
        {
          "output_type": "execute_result",
          "data": {
            "text/plain": [
              "[HeaderItem(mnemonic=\"VERS\", unit=\"\", value=\"2.0\", descr=\"CWLS Log ASCII Standa\"),\n",
              " HeaderItem(mnemonic=\"WRAP\", unit=\"\", value=\"NO\", descr=\"One line per depth ste\")]"
            ]
          },
          "metadata": {},
          "execution_count": 7
        }
      ]
    },
    {
      "cell_type": "code",
      "source": [
        "for item in las.sections['Well']:\n",
        "    print(f\"{item.descr} ({item.mnemonic}): \\t\\t {item.value}\")"
      ],
      "metadata": {
        "colab": {
          "base_uri": "https://localhost:8080/"
        },
        "id": "RoM7_5nNuUNZ",
        "outputId": "efe150af-4aa2-4d52-a82d-26588047d3da"
      },
      "execution_count": 17,
      "outputs": [
        {
          "output_type": "stream",
          "name": "stdout",
          "text": [
            "Top Depth (STRT): \t\t 102.1568\n",
            "Bottom Depth (STOP): \t\t 4636.514\n",
            "Depth Increment (STEP): \t\t 0.1524\n",
            "Null Value (NULL): \t\t -999.25\n",
            "Field Name (FLD): \t\t Q15\n",
            "NAME (WELL): \t\t 15/9-19\n",
            "WELLBORE (WBN): \t\t 15/9-19 SR\n",
            "COUNTRY (NATI): \t\t NOR\n",
            "COUNTRY (CTRY): \t\t NOR\n",
            "OPERATOR (COMP): \t\t STATOIL\n",
            "PERM DATUM (PDAT): \t\t MSL\n",
            "RIG NAME (COUN): \t\t NORTH SEA\n",
            "STATE (STAT): \t\t NORWAY\n",
            "PB WELL ID (PBWE): \t\t 15/9-19\n",
            "PB WELLBORE ID (APIN): \t\t 15/9-19 SR\n",
            "PB WELL NAME SET (PBWS): \t\t ALL\n"
          ]
        }
      ]
    },
    {
      "cell_type": "code",
      "source": [
        "las.well.WELL.value"
      ],
      "metadata": {
        "colab": {
          "base_uri": "https://localhost:8080/",
          "height": 35
        },
        "id": "nh4ORmDxudIR",
        "outputId": "4d76ab86-481b-4a05-e150-2bf8f5aa18cc"
      },
      "execution_count": 18,
      "outputs": [
        {
          "output_type": "execute_result",
          "data": {
            "text/plain": [
              "'15/9-19'"
            ],
            "application/vnd.google.colaboratory.intrinsic+json": {
              "type": "string"
            }
          },
          "metadata": {},
          "execution_count": 18
        }
      ]
    },
    {
      "cell_type": "code",
      "source": [
        "for curve in las.curves:\n",
        "    print(curve.mnemonic)"
      ],
      "metadata": {
        "colab": {
          "base_uri": "https://localhost:8080/"
        },
        "id": "7NCj-uAduzUX",
        "outputId": "0c652d65-97b7-4de8-87ee-1c5bb8f14cff"
      },
      "execution_count": 19,
      "outputs": [
        {
          "output_type": "stream",
          "name": "stdout",
          "text": [
            "DEPT\n",
            "AC\n",
            "CALI\n",
            "DEN\n",
            "GR\n",
            "NEU\n",
            "RDEP\n",
            "RMED\n"
          ]
        }
      ]
    },
    {
      "cell_type": "code",
      "source": [
        "for count, curve in enumerate(las.curves):\n",
        "    print(f\"Curve: {curve.mnemonic}, \\t Units: {curve.unit}, \\t Description: {curve.descr}\")\n",
        "print(f\"There are a total of: {count+1} curves present within this file\")"
      ],
      "metadata": {
        "colab": {
          "base_uri": "https://localhost:8080/"
        },
        "id": "Pa0PsBhKu5wH",
        "outputId": "086a77f9-9580-4110-ff93-b3104c5d384c"
      },
      "execution_count": 20,
      "outputs": [
        {
          "output_type": "stream",
          "name": "stdout",
          "text": [
            "Curve: DEPT, \t Units: M, \t Description: 1  DEPTH\n",
            "Curve: AC, \t Units: US/F, \t Description: 2  Sonic Transit Time (Slowness)\n",
            "Curve: CALI, \t Units: IN, \t Description: 3  Caliper\n",
            "Curve: DEN, \t Units: G/CC, \t Description: 4  Bulk Density\n",
            "Curve: GR, \t Units: GAPI, \t Description: 5  Gamma Ray\n",
            "Curve: NEU, \t Units: %, \t Description: 6  Neutron Porosity\n",
            "Curve: RDEP, \t Units: OHMM, \t Description: 7  Deep Resistivity\n",
            "Curve: RMED, \t Units: OHMM, \t Description: 8  Medium Resistivity\n",
            "There are a total of: 8 curves present within this file\n"
          ]
        }
      ]
    },
    {
      "cell_type": "code",
      "source": [
        "las.delete_curve('RMED')"
      ],
      "metadata": {
        "id": "NawVwxY6u_GQ"
      },
      "execution_count": 21,
      "outputs": []
    },
    {
      "cell_type": "code",
      "source": [
        "las.write('15_9-19_Exported.las')"
      ],
      "metadata": {
        "id": "YqwbNoq1z6fq"
      },
      "execution_count": 22,
      "outputs": []
    },
    {
      "cell_type": "code",
      "source": [
        "well = las.df()"
      ],
      "metadata": {
        "id": "4QpmnhNc0S-j"
      },
      "execution_count": 23,
      "outputs": []
    },
    {
      "cell_type": "code",
      "source": [
        "well.head()"
      ],
      "metadata": {
        "id": "j-jGdiH01Bsn"
      },
      "execution_count": null,
      "outputs": []
    },
    {
      "cell_type": "code",
      "source": [
        "well.describe()"
      ],
      "metadata": {
        "colab": {
          "base_uri": "https://localhost:8080/",
          "height": 300
        },
        "id": "uCob5OpP1Mqf",
        "outputId": "47e4c159-16c1-4ebb-b6ea-faeba35a159c"
      },
      "execution_count": 24,
      "outputs": [
        {
          "output_type": "execute_result",
          "data": {
            "text/plain": [
              "                AC         CALI          DEN           GR          NEU  \\\n",
              "count  6579.000000  6579.000000  6656.000000  6689.000000  6668.000000   \n",
              "mean     78.313607     9.550656     2.459291    36.048563    17.986061   \n",
              "std      17.009535     0.906267     0.162682    26.705519    11.694084   \n",
              "min       1.025100     6.000000     2.037700     2.766100     2.178300   \n",
              "25%      66.169300     9.142900     2.341250    14.852300    10.244475   \n",
              "50%      74.145900     9.523800     2.514200    32.142600    15.245100   \n",
              "75%      89.024250     9.904800     2.589800    50.901700    22.952525   \n",
              "max     149.218700    20.285700     3.001300   304.333700   146.347400   \n",
              "\n",
              "              RDEP  \n",
              "count  6701.000000  \n",
              "mean      3.221012  \n",
              "std       8.860387  \n",
              "min       0.250300  \n",
              "25%       0.800600  \n",
              "50%       1.770000  \n",
              "75%       3.394000  \n",
              "max     198.537100  "
            ],
            "text/html": [
              "\n",
              "  <div id=\"df-c330a77b-f86a-46ff-b84f-bad53bd7ecfe\">\n",
              "    <div class=\"colab-df-container\">\n",
              "      <div>\n",
              "<style scoped>\n",
              "    .dataframe tbody tr th:only-of-type {\n",
              "        vertical-align: middle;\n",
              "    }\n",
              "\n",
              "    .dataframe tbody tr th {\n",
              "        vertical-align: top;\n",
              "    }\n",
              "\n",
              "    .dataframe thead th {\n",
              "        text-align: right;\n",
              "    }\n",
              "</style>\n",
              "<table border=\"1\" class=\"dataframe\">\n",
              "  <thead>\n",
              "    <tr style=\"text-align: right;\">\n",
              "      <th></th>\n",
              "      <th>AC</th>\n",
              "      <th>CALI</th>\n",
              "      <th>DEN</th>\n",
              "      <th>GR</th>\n",
              "      <th>NEU</th>\n",
              "      <th>RDEP</th>\n",
              "    </tr>\n",
              "  </thead>\n",
              "  <tbody>\n",
              "    <tr>\n",
              "      <th>count</th>\n",
              "      <td>6579.000000</td>\n",
              "      <td>6579.000000</td>\n",
              "      <td>6656.000000</td>\n",
              "      <td>6689.000000</td>\n",
              "      <td>6668.000000</td>\n",
              "      <td>6701.000000</td>\n",
              "    </tr>\n",
              "    <tr>\n",
              "      <th>mean</th>\n",
              "      <td>78.313607</td>\n",
              "      <td>9.550656</td>\n",
              "      <td>2.459291</td>\n",
              "      <td>36.048563</td>\n",
              "      <td>17.986061</td>\n",
              "      <td>3.221012</td>\n",
              "    </tr>\n",
              "    <tr>\n",
              "      <th>std</th>\n",
              "      <td>17.009535</td>\n",
              "      <td>0.906267</td>\n",
              "      <td>0.162682</td>\n",
              "      <td>26.705519</td>\n",
              "      <td>11.694084</td>\n",
              "      <td>8.860387</td>\n",
              "    </tr>\n",
              "    <tr>\n",
              "      <th>min</th>\n",
              "      <td>1.025100</td>\n",
              "      <td>6.000000</td>\n",
              "      <td>2.037700</td>\n",
              "      <td>2.766100</td>\n",
              "      <td>2.178300</td>\n",
              "      <td>0.250300</td>\n",
              "    </tr>\n",
              "    <tr>\n",
              "      <th>25%</th>\n",
              "      <td>66.169300</td>\n",
              "      <td>9.142900</td>\n",
              "      <td>2.341250</td>\n",
              "      <td>14.852300</td>\n",
              "      <td>10.244475</td>\n",
              "      <td>0.800600</td>\n",
              "    </tr>\n",
              "    <tr>\n",
              "      <th>50%</th>\n",
              "      <td>74.145900</td>\n",
              "      <td>9.523800</td>\n",
              "      <td>2.514200</td>\n",
              "      <td>32.142600</td>\n",
              "      <td>15.245100</td>\n",
              "      <td>1.770000</td>\n",
              "    </tr>\n",
              "    <tr>\n",
              "      <th>75%</th>\n",
              "      <td>89.024250</td>\n",
              "      <td>9.904800</td>\n",
              "      <td>2.589800</td>\n",
              "      <td>50.901700</td>\n",
              "      <td>22.952525</td>\n",
              "      <td>3.394000</td>\n",
              "    </tr>\n",
              "    <tr>\n",
              "      <th>max</th>\n",
              "      <td>149.218700</td>\n",
              "      <td>20.285700</td>\n",
              "      <td>3.001300</td>\n",
              "      <td>304.333700</td>\n",
              "      <td>146.347400</td>\n",
              "      <td>198.537100</td>\n",
              "    </tr>\n",
              "  </tbody>\n",
              "</table>\n",
              "</div>\n",
              "      <button class=\"colab-df-convert\" onclick=\"convertToInteractive('df-c330a77b-f86a-46ff-b84f-bad53bd7ecfe')\"\n",
              "              title=\"Convert this dataframe to an interactive table.\"\n",
              "              style=\"display:none;\">\n",
              "        \n",
              "  <svg xmlns=\"http://www.w3.org/2000/svg\" height=\"24px\"viewBox=\"0 0 24 24\"\n",
              "       width=\"24px\">\n",
              "    <path d=\"M0 0h24v24H0V0z\" fill=\"none\"/>\n",
              "    <path d=\"M18.56 5.44l.94 2.06.94-2.06 2.06-.94-2.06-.94-.94-2.06-.94 2.06-2.06.94zm-11 1L8.5 8.5l.94-2.06 2.06-.94-2.06-.94L8.5 2.5l-.94 2.06-2.06.94zm10 10l.94 2.06.94-2.06 2.06-.94-2.06-.94-.94-2.06-.94 2.06-2.06.94z\"/><path d=\"M17.41 7.96l-1.37-1.37c-.4-.4-.92-.59-1.43-.59-.52 0-1.04.2-1.43.59L10.3 9.45l-7.72 7.72c-.78.78-.78 2.05 0 2.83L4 21.41c.39.39.9.59 1.41.59.51 0 1.02-.2 1.41-.59l7.78-7.78 2.81-2.81c.8-.78.8-2.07 0-2.86zM5.41 20L4 18.59l7.72-7.72 1.47 1.35L5.41 20z\"/>\n",
              "  </svg>\n",
              "      </button>\n",
              "      \n",
              "  <style>\n",
              "    .colab-df-container {\n",
              "      display:flex;\n",
              "      flex-wrap:wrap;\n",
              "      gap: 12px;\n",
              "    }\n",
              "\n",
              "    .colab-df-convert {\n",
              "      background-color: #E8F0FE;\n",
              "      border: none;\n",
              "      border-radius: 50%;\n",
              "      cursor: pointer;\n",
              "      display: none;\n",
              "      fill: #1967D2;\n",
              "      height: 32px;\n",
              "      padding: 0 0 0 0;\n",
              "      width: 32px;\n",
              "    }\n",
              "\n",
              "    .colab-df-convert:hover {\n",
              "      background-color: #E2EBFA;\n",
              "      box-shadow: 0px 1px 2px rgba(60, 64, 67, 0.3), 0px 1px 3px 1px rgba(60, 64, 67, 0.15);\n",
              "      fill: #174EA6;\n",
              "    }\n",
              "\n",
              "    [theme=dark] .colab-df-convert {\n",
              "      background-color: #3B4455;\n",
              "      fill: #D2E3FC;\n",
              "    }\n",
              "\n",
              "    [theme=dark] .colab-df-convert:hover {\n",
              "      background-color: #434B5C;\n",
              "      box-shadow: 0px 1px 3px 1px rgba(0, 0, 0, 0.15);\n",
              "      filter: drop-shadow(0px 1px 2px rgba(0, 0, 0, 0.3));\n",
              "      fill: #FFFFFF;\n",
              "    }\n",
              "  </style>\n",
              "\n",
              "      <script>\n",
              "        const buttonEl =\n",
              "          document.querySelector('#df-c330a77b-f86a-46ff-b84f-bad53bd7ecfe button.colab-df-convert');\n",
              "        buttonEl.style.display =\n",
              "          google.colab.kernel.accessAllowed ? 'block' : 'none';\n",
              "\n",
              "        async function convertToInteractive(key) {\n",
              "          const element = document.querySelector('#df-c330a77b-f86a-46ff-b84f-bad53bd7ecfe');\n",
              "          const dataTable =\n",
              "            await google.colab.kernel.invokeFunction('convertToInteractive',\n",
              "                                                     [key], {});\n",
              "          if (!dataTable) return;\n",
              "\n",
              "          const docLinkHtml = 'Like what you see? Visit the ' +\n",
              "            '<a target=\"_blank\" href=https://colab.research.google.com/notebooks/data_table.ipynb>data table notebook</a>'\n",
              "            + ' to learn more about interactive tables.';\n",
              "          element.innerHTML = '';\n",
              "          dataTable['output_type'] = 'display_data';\n",
              "          await google.colab.output.renderOutput(dataTable, element);\n",
              "          const docLink = document.createElement('div');\n",
              "          docLink.innerHTML = docLinkHtml;\n",
              "          element.appendChild(docLink);\n",
              "        }\n",
              "      </script>\n",
              "    </div>\n",
              "  </div>\n",
              "  "
            ]
          },
          "metadata": {},
          "execution_count": 24
        }
      ]
    },
    {
      "cell_type": "code",
      "source": [
        "well.info()"
      ],
      "metadata": {
        "colab": {
          "base_uri": "https://localhost:8080/"
        },
        "id": "cx0XsYBY1QD-",
        "outputId": "4df0dbc3-b730-4ea1-c288-7a6e8182c439"
      },
      "execution_count": 25,
      "outputs": [
        {
          "output_type": "stream",
          "name": "stdout",
          "text": [
            "<class 'pandas.core.frame.DataFrame'>\n",
            "Float64Index: 6701 entries, 3615.434 to 4636.514\n",
            "Data columns (total 6 columns):\n",
            " #   Column  Non-Null Count  Dtype  \n",
            "---  ------  --------------  -----  \n",
            " 0   AC      6579 non-null   float64\n",
            " 1   CALI    6579 non-null   float64\n",
            " 2   DEN     6656 non-null   float64\n",
            " 3   GR      6689 non-null   float64\n",
            " 4   NEU     6668 non-null   float64\n",
            " 5   RDEP    6701 non-null   float64\n",
            "dtypes: float64(6)\n",
            "memory usage: 366.5 KB\n"
          ]
        }
      ]
    },
    {
      "cell_type": "code",
      "source": [
        "well.plot()"
      ],
      "metadata": {
        "colab": {
          "base_uri": "https://localhost:8080/",
          "height": 296
        },
        "id": "h62gv82V1ZtP",
        "outputId": "0a56ce6d-663a-4e09-ac81-e0321d00f2ed"
      },
      "execution_count": 26,
      "outputs": [
        {
          "output_type": "execute_result",
          "data": {
            "text/plain": [
              "<matplotlib.axes._subplots.AxesSubplot at 0x7f29963adbd0>"
            ]
          },
          "metadata": {},
          "execution_count": 26
        },
        {
          "output_type": "display_data",
          "data": {
            "text/plain": [
              "<Figure size 432x288 with 1 Axes>"
            ],
            "image/png": "[encoded data removed]"
          },
          "metadata": {
            "needs_background": "light"
          }
        }
      ]
    },
    {
      "cell_type": "code",
      "source": [
        "well.plot(y='GR')"
      ],
      "metadata": {
        "colab": {
          "base_uri": "https://localhost:8080/",
          "height": 296
        },
        "id": "dI1zVinP1hj3",
        "outputId": "080d4f37-9f23-450d-d627-ffabf4b25aa5"
      },
      "execution_count": 27,
      "outputs": [
        {
          "output_type": "execute_result",
          "data": {
            "text/plain": [
              "<matplotlib.axes._subplots.AxesSubplot at 0x7f29963f82d0>"
            ]
          },
          "metadata": {},
          "execution_count": 27
        },
        {
          "output_type": "display_data",
          "data": {
            "text/plain": [
              "<Figure size 432x288 with 1 Axes>"
            ],
            "image/png": "[encoded data removed]"
          },
          "metadata": {
            "needs_background": "light"
          }
        }
      ]
    },
    {
      "cell_type": "code",
      "source": [
        "well.plot(y='DEN')"
      ],
      "metadata": {
        "colab": {
          "base_uri": "https://localhost:8080/",
          "height": 296
        },
        "id": "qSfnYDeQ1m7W",
        "outputId": "89c05a9d-89ae-4c70-f48a-7b57dcaa9983"
      },
      "execution_count": 28,
      "outputs": [
        {
          "output_type": "execute_result",
          "data": {
            "text/plain": [
              "<matplotlib.axes._subplots.AxesSubplot at 0x7f2995ef9790>"
            ]
          },
          "metadata": {},
          "execution_count": 28
        },
        {
          "output_type": "display_data",
          "data": {
            "text/plain": [
              "<Figure size 432x288 with 1 Axes>"
            ],
            "image/png": "[encoded data removed]"
          },
          "metadata": {
            "needs_background": "light"
          }
        }
      ]
    }
  ]
}