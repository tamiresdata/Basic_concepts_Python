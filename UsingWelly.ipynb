{
  "nbformat": 4,
  "nbformat_minor": 0,
  "metadata": {
    "colab": {
      "name": "UsingWelly.ipynb",
      "provenance": []
    },
    "kernelspec": {
      "name": "python3",
      "display_name": "Python 3"
    },
    "language_info": {
      "name": "python"
    }
  },
  "cells": [
    {
      "cell_type": "code",
      "execution_count": 3,
      "metadata": {
        "colab": {
          "base_uri": "https://localhost:8080/"
        },
        "id": "FvDSjXLQ3TT7",
        "outputId": "b5bdd93f-60ed-4ecc-b12b-ab9bfb1ebaf6"
      },
      "outputs": [
        {
          "output_type": "stream",
          "name": "stdout",
          "text": [
            "Requirement already satisfied: wellpathpy in /usr/local/lib/python3.7/dist-packages (0.5.0)\n",
            "Requirement already satisfied: numpy>=1.10 in /usr/local/lib/python3.7/dist-packages (from wellpathpy) (1.21.6)\n",
            "Requirement already satisfied: welly in /usr/local/lib/python3.7/dist-packages (0.5.2)\n",
            "Requirement already satisfied: lasio in /usr/local/lib/python3.7/dist-packages (from welly) (0.30)\n",
            "Requirement already satisfied: matplotlib in /usr/local/lib/python3.7/dist-packages (from welly) (3.2.2)\n",
            "Requirement already satisfied: scipy in /usr/local/lib/python3.7/dist-packages (from welly) (1.4.1)\n",
            "Requirement already satisfied: requests in /usr/local/lib/python3.7/dist-packages (from welly) (2.23.0)\n",
            "Requirement already satisfied: wellpathpy in /usr/local/lib/python3.7/dist-packages (from welly) (0.5.0)\n",
            "Requirement already satisfied: pandas in /usr/local/lib/python3.7/dist-packages (from welly) (1.3.5)\n",
            "Requirement already satisfied: striplog in /usr/local/lib/python3.7/dist-packages (from welly) (0.9.2)\n",
            "Requirement already satisfied: numpy in /usr/local/lib/python3.7/dist-packages (from welly) (1.21.6)\n",
            "Requirement already satisfied: tqdm in /usr/local/lib/python3.7/dist-packages (from welly) (4.64.0)\n",
            "Requirement already satisfied: python-dateutil>=2.1 in /usr/local/lib/python3.7/dist-packages (from matplotlib->welly) (2.8.2)\n",
            "Requirement already satisfied: kiwisolver>=1.0.1 in /usr/local/lib/python3.7/dist-packages (from matplotlib->welly) (1.4.2)\n",
            "Requirement already satisfied: pyparsing!=2.0.4,!=2.1.2,!=2.1.6,>=2.0.1 in /usr/local/lib/python3.7/dist-packages (from matplotlib->welly) (3.0.9)\n",
            "Requirement already satisfied: cycler>=0.10 in /usr/local/lib/python3.7/dist-packages (from matplotlib->welly) (0.11.0)\n",
            "Requirement already satisfied: typing-extensions in /usr/local/lib/python3.7/dist-packages (from kiwisolver>=1.0.1->matplotlib->welly) (4.2.0)\n",
            "Requirement already satisfied: six>=1.5 in /usr/local/lib/python3.7/dist-packages (from python-dateutil>=2.1->matplotlib->welly) (1.15.0)\n",
            "Requirement already satisfied: pytz>=2017.3 in /usr/local/lib/python3.7/dist-packages (from pandas->welly) (2022.1)\n",
            "Requirement already satisfied: certifi>=2017.4.17 in /usr/local/lib/python3.7/dist-packages (from requests->welly) (2021.10.8)\n",
            "Requirement already satisfied: urllib3!=1.25.0,!=1.25.1,<1.26,>=1.21.1 in /usr/local/lib/python3.7/dist-packages (from requests->welly) (1.24.3)\n",
            "Requirement already satisfied: idna<3,>=2.5 in /usr/local/lib/python3.7/dist-packages (from requests->welly) (2.10)\n",
            "Requirement already satisfied: chardet<4,>=3.0.2 in /usr/local/lib/python3.7/dist-packages (from requests->welly) (3.0.4)\n",
            "Requirement already satisfied: lasio in /usr/local/lib/python3.7/dist-packages (0.30)\n",
            "Requirement already satisfied: numpy in /usr/local/lib/python3.7/dist-packages (from lasio) (1.21.6)\n"
          ]
        }
      ],
      "source": [
        "!pip install wellpathpy\n",
        "!pip install welly\n",
        "!pip install lasio\n",
        "import pandas as pd\n",
        "import matplotlib.pyplot as plt\n",
        "import lasio"
      ]
    },
    {
      "cell_type": "code",
      "source": [
        "!pip install welly"
      ],
      "metadata": {
        "colab": {
          "base_uri": "https://localhost:8080/"
        },
        "id": "eUJlIhHS4vxC",
        "outputId": "56917dbb-feaf-405e-8f4d-91ea10f91cc3"
      },
      "execution_count": 4,
      "outputs": [
        {
          "output_type": "stream",
          "name": "stdout",
          "text": [
            "Requirement already satisfied: welly in /usr/local/lib/python3.7/dist-packages (0.5.2)\n",
            "Requirement already satisfied: scipy in /usr/local/lib/python3.7/dist-packages (from welly) (1.4.1)\n",
            "Requirement already satisfied: matplotlib in /usr/local/lib/python3.7/dist-packages (from welly) (3.2.2)\n",
            "Requirement already satisfied: wellpathpy in /usr/local/lib/python3.7/dist-packages (from welly) (0.5.0)\n",
            "Requirement already satisfied: numpy in /usr/local/lib/python3.7/dist-packages (from welly) (1.21.6)\n",
            "Requirement already satisfied: striplog in /usr/local/lib/python3.7/dist-packages (from welly) (0.9.2)\n",
            "Requirement already satisfied: requests in /usr/local/lib/python3.7/dist-packages (from welly) (2.23.0)\n",
            "Requirement already satisfied: lasio in /usr/local/lib/python3.7/dist-packages (from welly) (0.30)\n",
            "Requirement already satisfied: tqdm in /usr/local/lib/python3.7/dist-packages (from welly) (4.64.0)\n",
            "Requirement already satisfied: pandas in /usr/local/lib/python3.7/dist-packages (from welly) (1.3.5)\n",
            "Requirement already satisfied: cycler>=0.10 in /usr/local/lib/python3.7/dist-packages (from matplotlib->welly) (0.11.0)\n",
            "Requirement already satisfied: python-dateutil>=2.1 in /usr/local/lib/python3.7/dist-packages (from matplotlib->welly) (2.8.2)\n",
            "Requirement already satisfied: kiwisolver>=1.0.1 in /usr/local/lib/python3.7/dist-packages (from matplotlib->welly) (1.4.2)\n",
            "Requirement already satisfied: pyparsing!=2.0.4,!=2.1.2,!=2.1.6,>=2.0.1 in /usr/local/lib/python3.7/dist-packages (from matplotlib->welly) (3.0.9)\n",
            "Requirement already satisfied: typing-extensions in /usr/local/lib/python3.7/dist-packages (from kiwisolver>=1.0.1->matplotlib->welly) (4.2.0)\n",
            "Requirement already satisfied: six>=1.5 in /usr/local/lib/python3.7/dist-packages (from python-dateutil>=2.1->matplotlib->welly) (1.15.0)\n",
            "Requirement already satisfied: pytz>=2017.3 in /usr/local/lib/python3.7/dist-packages (from pandas->welly) (2022.1)\n",
            "Requirement already satisfied: certifi>=2017.4.17 in /usr/local/lib/python3.7/dist-packages (from requests->welly) (2021.10.8)\n",
            "Requirement already satisfied: chardet<4,>=3.0.2 in /usr/local/lib/python3.7/dist-packages (from requests->welly) (3.0.4)\n",
            "Requirement already satisfied: urllib3!=1.25.0,!=1.25.1,<1.26,>=1.21.1 in /usr/local/lib/python3.7/dist-packages (from requests->welly) (1.24.3)\n",
            "Requirement already satisfied: idna<3,>=2.5 in /usr/local/lib/python3.7/dist-packages (from requests->welly) (2.10)\n"
          ]
        }
      ]
    },
    {
      "cell_type": "code",
      "source": [
        "from welly import Well\n",
        "from welly import Curve\n",
        "import pandas as pd\n",
        "import matplotlib.pyplot as plt"
      ],
      "metadata": {
        "id": "DVPJCMnT40vF"
      },
      "execution_count": 6,
      "outputs": []
    },
    {
      "cell_type": "code",
      "source": [
        "well = Well.from_las('L0509_comp.las')"
      ],
      "metadata": {
        "id": "vX8_5xV-I89F"
      },
      "execution_count": 7,
      "outputs": []
    },
    {
      "cell_type": "code",
      "source": [
        "well"
      ],
      "metadata": {
        "colab": {
          "base_uri": "https://localhost:8080/",
          "height": 297
        },
        "id": "tkp2o7vmJQfe",
        "outputId": "3de5bff0-0e28-4a97-a6f6-417d280f08ec"
      },
      "execution_count": 8,
      "outputs": [
        {
          "output_type": "execute_result",
          "data": {
            "text/plain": [
              "Well(uwi: '', name: 'L05-B-01', 5 curves: ['GR', 'DT', 'RHOB', 'DRHO', 'NPHI'])"
            ],
            "text/html": [
              "<table><tr><th style=\"text-align:center;\" colspan=\"2\">L05-B-01<br><small></small></th></tr><tr><td><strong>crs</strong></td><td>CRS({})</td></tr><tr><td><strong>location</strong></td><td>NORTH SEA</td></tr><tr><td><strong>country</strong></td><td>NETHERLANDS</td></tr><tr><td><strong>state</strong></td><td>NETHERLANDS</td></tr><tr><td><strong>county</strong></td><td>GLOMAR ADRIATIC XI</td></tr><tr><td><strong>latitude</strong></td><td>53 42' 18.113\"</td></tr><tr><td><strong>longitude</strong></td><td>04 36' 12.526\"</td></tr><tr><td><strong>api</strong></td><td></td></tr><tr><td><strong>ekb</strong></td><td>40.0</td></tr><tr><td><strong>tdd</strong></td><td>4906.0</td></tr><tr><td><strong>td</strong></td><td>None</td></tr><tr><td><strong>data</strong></td><td>DRHO, DT, GR, NPHI, RHOB</td></tr></table>"
            ]
          },
          "metadata": {},
          "execution_count": 8
        }
      ]
    },
    {
      "cell_type": "code",
      "source": [
        "well.header"
      ],
      "metadata": {
        "colab": {
          "base_uri": "https://localhost:8080/",
          "height": 1000
        },
        "id": "Pci4mv5tJX3s",
        "outputId": "d108b046-1596-4e0a-83c9-de40dbaf0451"
      },
      "execution_count": 9,
      "outputs": [
        {
          "output_type": "execute_result",
          "data": {
            "text/plain": [
              "   original_mnemonic mnemonic  unit               value  \\\n",
              "0               VERS     VERS                       2.0   \n",
              "1               WRAP     WRAP                        NO   \n",
              "2               STRT     STRT     M                81.0   \n",
              "3               STOP     STOP     M           4879.7006   \n",
              "4               STEP     STEP     M                 0.1   \n",
              "5               NULL     NULL                   -999.25   \n",
              "6               WELL     WELL                  L05-B-01   \n",
              "7                FLD      FLD                        L5   \n",
              "8               CNTY     CNTY        GLOMAR ADRIATIC XI   \n",
              "9               STAT     STAT               NETHERLANDS   \n",
              "10              CTRY     CTRY               NETHERLANDS   \n",
              "11               LOC      LOC                 NORTH SEA   \n",
              "12               API      API                             \n",
              "13              DATE     DATE               16-Feb-2002   \n",
              "14              COMP     COMP                       WIN   \n",
              "15              SRVC     SRVC                             \n",
              "16              LATI     LATI   DEG      53 42' 18.113\"   \n",
              "17              LONG     LONG   DEG      04 36' 12.526\"   \n",
              "18              DEPT     DEPT     M                       \n",
              "19                GR       GR  GAPI                       \n",
              "20                DT       DT  US/F                       \n",
              "21              RHOB     RHOB  G/C3                       \n",
              "22              DRHO     DRHO  G/C3                       \n",
              "23              NPHI     NPHI   V/V                       \n",
              "24               TDD      TDD     M              4906.0   \n",
              "25              UBID     UBID                      8552   \n",
              "26              PDAT     PDAT            Mean Sea Level   \n",
              "27               EPD      EPD     M                 0.0   \n",
              "28               LMF      LMF                             \n",
              "29               APD      APD     M                40.0   \n",
              "30               EKB      EKB     M                40.0   \n",
              "31                    UNKNOWN                             \n",
              "\n",
              "                                                descr    section  \n",
              "0               CWLS LOG ASCII STANDARD - VERSION 2.0    Version  \n",
              "1                             ONE LINE PER DEPTH STEP    Version  \n",
              "2                                   First Index Value       Well  \n",
              "3                                    Last Index Value       Well  \n",
              "4                                       Frame Spacing       Well  \n",
              "5                                        Absent Value       Well  \n",
              "6                                           Well Name       Well  \n",
              "7                                          Field Name       Well  \n",
              "8                                              County       Well  \n",
              "9                                               State       Well  \n",
              "10                                            Country       Well  \n",
              "11                                           Location       Well  \n",
              "12                                         API Number       Well  \n",
              "13                                               Date       Well  \n",
              "14                                       Company Name       Well  \n",
              "15                                    Service Company       Well  \n",
              "16                                           LATITUDE       Well  \n",
              "17                                          LONGITUDE       Well  \n",
              "18                                  1     Index curve     Curves  \n",
              "19                                    2     Gamma Ray     Curves  \n",
              "20        3     Acoustic Compressional Slowness - DTC     Curves  \n",
              "21                                 4     Bulk Density     Curves  \n",
              "22                           5     Density Correction     Curves  \n",
              "23                             6     Neutron Porosity     Curves  \n",
              "24                              Total Depth (Driller)  Parameter  \n",
              "25                                 Unique Borehole Id  Parameter  \n",
              "26                                    Permanent Datum  Parameter  \n",
              "27  Elevation of Permanent Datum (PDAT) above Mean...  Parameter  \n",
              "28  Logging Measured From (Name of Logging Elevati...  Parameter  \n",
              "29  Elevation of Depth Reference (LMF) Above Perma...  Parameter  \n",
              "30    Elevation of Kelly Bushing Above Mean Sea Level  Parameter  \n",
              "31                                 composite_curve_qc      Other  "
            ],
            "text/html": [
              "\n",
              "  <div id=\"df-5588b6b6-6ae8-4dc4-9737-14bdaf3b8bed\">\n",
              "    <div class=\"colab-df-container\">\n",
              "      <div>\n",
              "<style scoped>\n",
              "    .dataframe tbody tr th:only-of-type {\n",
              "        vertical-align: middle;\n",
              "    }\n",
              "\n",
              "    .dataframe tbody tr th {\n",
              "        vertical-align: top;\n",
              "    }\n",
              "\n",
              "    .dataframe thead th {\n",
              "        text-align: right;\n",
              "    }\n",
              "</style>\n",
              "<table border=\"1\" class=\"dataframe\">\n",
              "  <thead>\n",
              "    <tr style=\"text-align: right;\">\n",
              "      <th></th>\n",
              "      <th>original_mnemonic</th>\n",
              "      <th>mnemonic</th>\n",
              "      <th>unit</th>\n",
              "      <th>value</th>\n",
              "      <th>descr</th>\n",
              "      <th>section</th>\n",
              "    </tr>\n",
              "  </thead>\n",
              "  <tbody>\n",
              "    <tr>\n",
              "      <th>0</th>\n",
              "      <td>VERS</td>\n",
              "      <td>VERS</td>\n",
              "      <td></td>\n",
              "      <td>2.0</td>\n",
              "      <td>CWLS LOG ASCII STANDARD - VERSION 2.0</td>\n",
              "      <td>Version</td>\n",
              "    </tr>\n",
              "    <tr>\n",
              "      <th>1</th>\n",
              "      <td>WRAP</td>\n",
              "      <td>WRAP</td>\n",
              "      <td></td>\n",
              "      <td>NO</td>\n",
              "      <td>ONE LINE PER DEPTH STEP</td>\n",
              "      <td>Version</td>\n",
              "    </tr>\n",
              "    <tr>\n",
              "      <th>2</th>\n",
              "      <td>STRT</td>\n",
              "      <td>STRT</td>\n",
              "      <td>M</td>\n",
              "      <td>81.0</td>\n",
              "      <td>First Index Value</td>\n",
              "      <td>Well</td>\n",
              "    </tr>\n",
              "    <tr>\n",
              "      <th>3</th>\n",
              "      <td>STOP</td>\n",
              "      <td>STOP</td>\n",
              "      <td>M</td>\n",
              "      <td>4879.7006</td>\n",
              "      <td>Last Index Value</td>\n",
              "      <td>Well</td>\n",
              "    </tr>\n",
              "    <tr>\n",
              "      <th>4</th>\n",
              "      <td>STEP</td>\n",
              "      <td>STEP</td>\n",
              "      <td>M</td>\n",
              "      <td>0.1</td>\n",
              "      <td>Frame Spacing</td>\n",
              "      <td>Well</td>\n",
              "    </tr>\n",
              "    <tr>\n",
              "      <th>5</th>\n",
              "      <td>NULL</td>\n",
              "      <td>NULL</td>\n",
              "      <td></td>\n",
              "      <td>-999.25</td>\n",
              "      <td>Absent Value</td>\n",
              "      <td>Well</td>\n",
              "    </tr>\n",
              "    <tr>\n",
              "      <th>6</th>\n",
              "      <td>WELL</td>\n",
              "      <td>WELL</td>\n",
              "      <td></td>\n",
              "      <td>L05-B-01</td>\n",
              "      <td>Well Name</td>\n",
              "      <td>Well</td>\n",
              "    </tr>\n",
              "    <tr>\n",
              "      <th>7</th>\n",
              "      <td>FLD</td>\n",
              "      <td>FLD</td>\n",
              "      <td></td>\n",
              "      <td>L5</td>\n",
              "      <td>Field Name</td>\n",
              "      <td>Well</td>\n",
              "    </tr>\n",
              "    <tr>\n",
              "      <th>8</th>\n",
              "      <td>CNTY</td>\n",
              "      <td>CNTY</td>\n",
              "      <td></td>\n",
              "      <td>GLOMAR ADRIATIC XI</td>\n",
              "      <td>County</td>\n",
              "      <td>Well</td>\n",
              "    </tr>\n",
              "    <tr>\n",
              "      <th>9</th>\n",
              "      <td>STAT</td>\n",
              "      <td>STAT</td>\n",
              "      <td></td>\n",
              "      <td>NETHERLANDS</td>\n",
              "      <td>State</td>\n",
              "      <td>Well</td>\n",
              "    </tr>\n",
              "    <tr>\n",
              "      <th>10</th>\n",
              "      <td>CTRY</td>\n",
              "      <td>CTRY</td>\n",
              "      <td></td>\n",
              "      <td>NETHERLANDS</td>\n",
              "      <td>Country</td>\n",
              "      <td>Well</td>\n",
              "    </tr>\n",
              "    <tr>\n",
              "      <th>11</th>\n",
              "      <td>LOC</td>\n",
              "      <td>LOC</td>\n",
              "      <td></td>\n",
              "      <td>NORTH SEA</td>\n",
              "      <td>Location</td>\n",
              "      <td>Well</td>\n",
              "    </tr>\n",
              "    <tr>\n",
              "      <th>12</th>\n",
              "      <td>API</td>\n",
              "      <td>API</td>\n",
              "      <td></td>\n",
              "      <td></td>\n",
              "      <td>API Number</td>\n",
              "      <td>Well</td>\n",
              "    </tr>\n",
              "    <tr>\n",
              "      <th>13</th>\n",
              "      <td>DATE</td>\n",
              "      <td>DATE</td>\n",
              "      <td></td>\n",
              "      <td>16-Feb-2002</td>\n",
              "      <td>Date</td>\n",
              "      <td>Well</td>\n",
              "    </tr>\n",
              "    <tr>\n",
              "      <th>14</th>\n",
              "      <td>COMP</td>\n",
              "      <td>COMP</td>\n",
              "      <td></td>\n",
              "      <td>WIN</td>\n",
              "      <td>Company Name</td>\n",
              "      <td>Well</td>\n",
              "    </tr>\n",
              "    <tr>\n",
              "      <th>15</th>\n",
              "      <td>SRVC</td>\n",
              "      <td>SRVC</td>\n",
              "      <td></td>\n",
              "      <td></td>\n",
              "      <td>Service Company</td>\n",
              "      <td>Well</td>\n",
              "    </tr>\n",
              "    <tr>\n",
              "      <th>16</th>\n",
              "      <td>LATI</td>\n",
              "      <td>LATI</td>\n",
              "      <td>DEG</td>\n",
              "      <td>53 42' 18.113\"</td>\n",
              "      <td>LATITUDE</td>\n",
              "      <td>Well</td>\n",
              "    </tr>\n",
              "    <tr>\n",
              "      <th>17</th>\n",
              "      <td>LONG</td>\n",
              "      <td>LONG</td>\n",
              "      <td>DEG</td>\n",
              "      <td>04 36' 12.526\"</td>\n",
              "      <td>LONGITUDE</td>\n",
              "      <td>Well</td>\n",
              "    </tr>\n",
              "    <tr>\n",
              "      <th>18</th>\n",
              "      <td>DEPT</td>\n",
              "      <td>DEPT</td>\n",
              "      <td>M</td>\n",
              "      <td></td>\n",
              "      <td>1     Index curve</td>\n",
              "      <td>Curves</td>\n",
              "    </tr>\n",
              "    <tr>\n",
              "      <th>19</th>\n",
              "      <td>GR</td>\n",
              "      <td>GR</td>\n",
              "      <td>GAPI</td>\n",
              "      <td></td>\n",
              "      <td>2     Gamma Ray</td>\n",
              "      <td>Curves</td>\n",
              "    </tr>\n",
              "    <tr>\n",
              "      <th>20</th>\n",
              "      <td>DT</td>\n",
              "      <td>DT</td>\n",
              "      <td>US/F</td>\n",
              "      <td></td>\n",
              "      <td>3     Acoustic Compressional Slowness - DTC</td>\n",
              "      <td>Curves</td>\n",
              "    </tr>\n",
              "    <tr>\n",
              "      <th>21</th>\n",
              "      <td>RHOB</td>\n",
              "      <td>RHOB</td>\n",
              "      <td>G/C3</td>\n",
              "      <td></td>\n",
              "      <td>4     Bulk Density</td>\n",
              "      <td>Curves</td>\n",
              "    </tr>\n",
              "    <tr>\n",
              "      <th>22</th>\n",
              "      <td>DRHO</td>\n",
              "      <td>DRHO</td>\n",
              "      <td>G/C3</td>\n",
              "      <td></td>\n",
              "      <td>5     Density Correction</td>\n",
              "      <td>Curves</td>\n",
              "    </tr>\n",
              "    <tr>\n",
              "      <th>23</th>\n",
              "      <td>NPHI</td>\n",
              "      <td>NPHI</td>\n",
              "      <td>V/V</td>\n",
              "      <td></td>\n",
              "      <td>6     Neutron Porosity</td>\n",
              "      <td>Curves</td>\n",
              "    </tr>\n",
              "    <tr>\n",
              "      <th>24</th>\n",
              "      <td>TDD</td>\n",
              "      <td>TDD</td>\n",
              "      <td>M</td>\n",
              "      <td>4906.0</td>\n",
              "      <td>Total Depth (Driller)</td>\n",
              "      <td>Parameter</td>\n",
              "    </tr>\n",
              "    <tr>\n",
              "      <th>25</th>\n",
              "      <td>UBID</td>\n",
              "      <td>UBID</td>\n",
              "      <td></td>\n",
              "      <td>8552</td>\n",
              "      <td>Unique Borehole Id</td>\n",
              "      <td>Parameter</td>\n",
              "    </tr>\n",
              "    <tr>\n",
              "      <th>26</th>\n",
              "      <td>PDAT</td>\n",
              "      <td>PDAT</td>\n",
              "      <td></td>\n",
              "      <td>Mean Sea Level</td>\n",
              "      <td>Permanent Datum</td>\n",
              "      <td>Parameter</td>\n",
              "    </tr>\n",
              "    <tr>\n",
              "      <th>27</th>\n",
              "      <td>EPD</td>\n",
              "      <td>EPD</td>\n",
              "      <td>M</td>\n",
              "      <td>0.0</td>\n",
              "      <td>Elevation of Permanent Datum (PDAT) above Mean...</td>\n",
              "      <td>Parameter</td>\n",
              "    </tr>\n",
              "    <tr>\n",
              "      <th>28</th>\n",
              "      <td>LMF</td>\n",
              "      <td>LMF</td>\n",
              "      <td></td>\n",
              "      <td></td>\n",
              "      <td>Logging Measured From (Name of Logging Elevati...</td>\n",
              "      <td>Parameter</td>\n",
              "    </tr>\n",
              "    <tr>\n",
              "      <th>29</th>\n",
              "      <td>APD</td>\n",
              "      <td>APD</td>\n",
              "      <td>M</td>\n",
              "      <td>40.0</td>\n",
              "      <td>Elevation of Depth Reference (LMF) Above Perma...</td>\n",
              "      <td>Parameter</td>\n",
              "    </tr>\n",
              "    <tr>\n",
              "      <th>30</th>\n",
              "      <td>EKB</td>\n",
              "      <td>EKB</td>\n",
              "      <td>M</td>\n",
              "      <td>40.0</td>\n",
              "      <td>Elevation of Kelly Bushing Above Mean Sea Level</td>\n",
              "      <td>Parameter</td>\n",
              "    </tr>\n",
              "    <tr>\n",
              "      <th>31</th>\n",
              "      <td></td>\n",
              "      <td>UNKNOWN</td>\n",
              "      <td></td>\n",
              "      <td></td>\n",
              "      <td>composite_curve_qc</td>\n",
              "      <td>Other</td>\n",
              "    </tr>\n",
              "  </tbody>\n",
              "</table>\n",
              "</div>\n",
              "      <button class=\"colab-df-convert\" onclick=\"convertToInteractive('df-5588b6b6-6ae8-4dc4-9737-14bdaf3b8bed')\"\n",
              "              title=\"Convert this dataframe to an interactive table.\"\n",
              "              style=\"display:none;\">\n",
              "        \n",
              "  <svg xmlns=\"http://www.w3.org/2000/svg\" height=\"24px\"viewBox=\"0 0 24 24\"\n",
              "       width=\"24px\">\n",
              "    <path d=\"M0 0h24v24H0V0z\" fill=\"none\"/>\n",
              "    <path d=\"M18.56 5.44l.94 2.06.94-2.06 2.06-.94-2.06-.94-.94-2.06-.94 2.06-2.06.94zm-11 1L8.5 8.5l.94-2.06 2.06-.94-2.06-.94L8.5 2.5l-.94 2.06-2.06.94zm10 10l.94 2.06.94-2.06 2.06-.94-2.06-.94-.94-2.06-.94 2.06-2.06.94z\"/><path d=\"M17.41 7.96l-1.37-1.37c-.4-.4-.92-.59-1.43-.59-.52 0-1.04.2-1.43.59L10.3 9.45l-7.72 7.72c-.78.78-.78 2.05 0 2.83L4 21.41c.39.39.9.59 1.41.59.51 0 1.02-.2 1.41-.59l7.78-7.78 2.81-2.81c.8-.78.8-2.07 0-2.86zM5.41 20L4 18.59l7.72-7.72 1.47 1.35L5.41 20z\"/>\n",
              "  </svg>\n",
              "      </button>\n",
              "      \n",
              "  <style>\n",
              "    .colab-df-container {\n",
              "      display:flex;\n",
              "      flex-wrap:wrap;\n",
              "      gap: 12px;\n",
              "    }\n",
              "\n",
              "    .colab-df-convert {\n",
              "      background-color: #E8F0FE;\n",
              "      border: none;\n",
              "      border-radius: 50%;\n",
              "      cursor: pointer;\n",
              "      display: none;\n",
              "      fill: #1967D2;\n",
              "      height: 32px;\n",
              "      padding: 0 0 0 0;\n",
              "      width: 32px;\n",
              "    }\n",
              "\n",
              "    .colab-df-convert:hover {\n",
              "      background-color: #E2EBFA;\n",
              "      box-shadow: 0px 1px 2px rgba(60, 64, 67, 0.3), 0px 1px 3px 1px rgba(60, 64, 67, 0.15);\n",
              "      fill: #174EA6;\n",
              "    }\n",
              "\n",
              "    [theme=dark] .colab-df-convert {\n",
              "      background-color: #3B4455;\n",
              "      fill: #D2E3FC;\n",
              "    }\n",
              "\n",
              "    [theme=dark] .colab-df-convert:hover {\n",
              "      background-color: #434B5C;\n",
              "      box-shadow: 0px 1px 3px 1px rgba(0, 0, 0, 0.15);\n",
              "      filter: drop-shadow(0px 1px 2px rgba(0, 0, 0, 0.3));\n",
              "      fill: #FFFFFF;\n",
              "    }\n",
              "  </style>\n",
              "\n",
              "      <script>\n",
              "        const buttonEl =\n",
              "          document.querySelector('#df-5588b6b6-6ae8-4dc4-9737-14bdaf3b8bed button.colab-df-convert');\n",
              "        buttonEl.style.display =\n",
              "          google.colab.kernel.accessAllowed ? 'block' : 'none';\n",
              "\n",
              "        async function convertToInteractive(key) {\n",
              "          const element = document.querySelector('#df-5588b6b6-6ae8-4dc4-9737-14bdaf3b8bed');\n",
              "          const dataTable =\n",
              "            await google.colab.kernel.invokeFunction('convertToInteractive',\n",
              "                                                     [key], {});\n",
              "          if (!dataTable) return;\n",
              "\n",
              "          const docLinkHtml = 'Like what you see? Visit the ' +\n",
              "            '<a target=\"_blank\" href=https://colab.research.google.com/notebooks/data_table.ipynb>data table notebook</a>'\n",
              "            + ' to learn more about interactive tables.';\n",
              "          element.innerHTML = '';\n",
              "          dataTable['output_type'] = 'display_data';\n",
              "          await google.colab.output.renderOutput(dataTable, element);\n",
              "          const docLink = document.createElement('div');\n",
              "          docLink.innerHTML = docLinkHtml;\n",
              "          element.appendChild(docLink);\n",
              "        }\n",
              "      </script>\n",
              "    </div>\n",
              "  </div>\n",
              "  "
            ]
          },
          "metadata": {},
          "execution_count": 9
        }
      ]
    },
    {
      "cell_type": "code",
      "source": [
        ""
      ],
      "metadata": {
        "id": "Z1p551EcKi4j"
      },
      "execution_count": null,
      "outputs": []
    },
    {
      "cell_type": "code",
      "source": [
        "well.count_curves()"
      ],
      "metadata": {
        "colab": {
          "base_uri": "https://localhost:8080/"
        },
        "id": "Afl1S9FVJw2M",
        "outputId": "f779b9b7-26fb-4ed3-a532-96f3acda1c68"
      },
      "execution_count": 13,
      "outputs": [
        {
          "output_type": "execute_result",
          "data": {
            "text/plain": [
              "5"
            ]
          },
          "metadata": {},
          "execution_count": 13
        }
      ]
    },
    {
      "cell_type": "code",
      "source": [
        "well._get_curve_mnemonics()"
      ],
      "metadata": {
        "colab": {
          "base_uri": "https://localhost:8080/"
        },
        "id": "K0O7bMhRJ098",
        "outputId": "12e87f50-85ad-4fac-dfeb-15ab69cb1aa3"
      },
      "execution_count": 14,
      "outputs": [
        {
          "output_type": "execute_result",
          "data": {
            "text/plain": [
              "['GR', 'DT', 'RHOB', 'DRHO', 'NPHI']"
            ]
          },
          "metadata": {},
          "execution_count": 14
        }
      ]
    },
    {
      "cell_type": "code",
      "source": [
        "well.data"
      ],
      "metadata": {
        "colab": {
          "base_uri": "https://localhost:8080/"
        },
        "id": "e9ZMrqaBJ4o6",
        "outputId": "493c8fe2-eb9a-4135-8491-7bd6604bb281"
      },
      "execution_count": 15,
      "outputs": [
        {
          "output_type": "execute_result",
          "data": {
            "text/plain": [
              "{'DRHO': Curve(mnemonic=DRHO, units=G/C3, start=81.0000, stop=4879.7006, step=0.0000, count=[2075]),\n",
              " 'DT': Curve(mnemonic=DT, units=US/F, start=81.0000, stop=4879.7006, step=0.0000, count=[21709]),\n",
              " 'GR': Curve(mnemonic=GR, units=GAPI, start=81.0000, stop=4879.7006, step=0.0000, count=[47974]),\n",
              " 'NPHI': Curve(mnemonic=NPHI, units=V/V, start=81.0000, stop=4879.7006, step=0.0000, count=[3095]),\n",
              " 'RHOB': Curve(mnemonic=RHOB, units=G/C3, start=81.0000, stop=4879.7006, step=0.0000, count=[2075])}"
            ]
          },
          "metadata": {},
          "execution_count": 15
        }
      ]
    },
    {
      "cell_type": "code",
      "source": [
        "well.data['GR']"
      ],
      "metadata": {
        "colab": {
          "base_uri": "https://localhost:8080/",
          "height": 499
        },
        "id": "QcLn9pEPJ8r6",
        "outputId": "bbf1aac7-f056-4923-f2a6-f316356b736a"
      },
      "execution_count": 16,
      "outputs": [
        {
          "output_type": "execute_result",
          "data": {
            "text/plain": [
              "Curve(mnemonic=GR, units=GAPI, start=81.0000, stop=4879.7006, step=0.0000, count=[47974])"
            ],
            "text/html": [
              "<table><tr><th style=\"text-align:center;\" colspan=\"2\">GR [GAPI]</th></tr><tr><td style=\"text-align:center;\" colspan=\"2\">81.0000 : 4879.7006 : 0.0000</td></tr><tr><td><strong>index_units</strong></td><td>M</td></tr><tr><td><strong>code</strong></td><td>None</td></tr><tr><td><strong>description</strong></td><td>2     Gamma Ray</td></tr><tr><td><strong>log_type</strong></td><td>None</td></tr><tr><td><strong>api</strong></td><td></td></tr><tr><td><strong>date</strong></td><td>16-Feb-2002</td></tr><tr><td><strong>null</strong></td><td>-999.25</td></tr><tr><td><strong>run</strong></td><td>None</td></tr><tr><td><strong>service_company</strong></td><td></td></tr><tr><th style=\"border-top: 2px solid #000; text-align:center;\" colspan=\"2\"><strong>Stats</strong></th></tr><tr><td><strong>samples (NaNs)</strong></td><td>47988 (14)</td></tr><tr><td><strong><sub>min</sub> mean <sup>max</sup></strong></td><td><sub>12.02</sub> 36.019 <sup>218.20</sup></td></tr><tr><th style=\"border-top: 2px solid #000;\">Depth</th><th style=\"border-top: 2px solid #000;\">Value</th></tr><tr><td>81.0000</td><td>nan</td></tr><tr><td>81.1000</td><td>nan</td></tr><tr><td>81.2000</td><td>nan</td></tr><tr><td>⋮</td><td>⋮</td></tr><tr><td>4879.5006</td><td>104.0882</td></tr><tr><td>4879.6006</td><td>103.3753</td></tr><tr><td>4879.7006</td><td>102.7809</td></tr></table>"
            ]
          },
          "metadata": {},
          "execution_count": 16
        }
      ]
    },
    {
      "cell_type": "code",
      "source": [
        "well.data['RHOB']"
      ],
      "metadata": {
        "colab": {
          "base_uri": "https://localhost:8080/",
          "height": 499
        },
        "id": "DjKsRc4wKD0z",
        "outputId": "28aa3d62-d5ef-4f89-ff80-486e34c2448a"
      },
      "execution_count": 17,
      "outputs": [
        {
          "output_type": "execute_result",
          "data": {
            "text/plain": [
              "Curve(mnemonic=RHOB, units=G/C3, start=81.0000, stop=4879.7006, step=0.0000, count=[2075])"
            ],
            "text/html": [
              "<table><tr><th style=\"text-align:center;\" colspan=\"2\">RHOB [G/C3]</th></tr><tr><td style=\"text-align:center;\" colspan=\"2\">81.0000 : 4879.7006 : 0.0000</td></tr><tr><td><strong>index_units</strong></td><td>M</td></tr><tr><td><strong>code</strong></td><td>None</td></tr><tr><td><strong>description</strong></td><td>4     Bulk Density</td></tr><tr><td><strong>log_type</strong></td><td>None</td></tr><tr><td><strong>api</strong></td><td></td></tr><tr><td><strong>date</strong></td><td>16-Feb-2002</td></tr><tr><td><strong>null</strong></td><td>-999.25</td></tr><tr><td><strong>run</strong></td><td>None</td></tr><tr><td><strong>service_company</strong></td><td></td></tr><tr><th style=\"border-top: 2px solid #000; text-align:center;\" colspan=\"2\"><strong>Stats</strong></th></tr><tr><td><strong>samples (NaNs)</strong></td><td>47988 (45913)</td></tr><tr><td><strong><sub>min</sub> mean <sup>max</sup></strong></td><td><sub>1.95</sub> 2.563 <sup>2.79</sup></td></tr><tr><th style=\"border-top: 2px solid #000;\">Depth</th><th style=\"border-top: 2px solid #000;\">Value</th></tr><tr><td>81.0000</td><td>nan</td></tr><tr><td>81.1000</td><td>nan</td></tr><tr><td>81.2000</td><td>nan</td></tr><tr><td>⋮</td><td>⋮</td></tr><tr><td>4879.5006</td><td>nan</td></tr><tr><td>4879.6006</td><td>nan</td></tr><tr><td>4879.7006</td><td>nan</td></tr></table>"
            ]
          },
          "metadata": {},
          "execution_count": 17
        }
      ]
    },
    {
      "cell_type": "code",
      "source": [
        "well.data['GR'].read_at(3000)"
      ],
      "metadata": {
        "colab": {
          "base_uri": "https://localhost:8080/"
        },
        "id": "ndEjOxm2KKNZ",
        "outputId": "0e0bf843-2f30-4ac3-dfce-0955527eae3e"
      },
      "execution_count": 18,
      "outputs": [
        {
          "output_type": "execute_result",
          "data": {
            "text/plain": [
              "45.42338982099793"
            ]
          },
          "metadata": {},
          "execution_count": 18
        }
      ]
    },
    {
      "cell_type": "code",
      "source": [
        "well.plot(extents='curve')"
      ],
      "metadata": {
        "colab": {
          "base_uri": "https://localhost:8080/",
          "height": 815
        },
        "id": "dqeMKhjWKOfA",
        "outputId": "8ce5e3cc-489f-45e4-ca1d-c2d74b40634d"
      },
      "execution_count": 19,
      "outputs": [
        {
          "output_type": "execute_result",
          "data": {
            "text/plain": [
              "<Figure size 720x864 with 5 Axes>"
            ],
            "image/png": "[encoded data removed]"
          },
          "metadata": {},
          "execution_count": 19
        }
      ]
    },
    {
      "cell_type": "code",
      "source": [
        "well.plot(tracks=['GR'])"
      ],
      "metadata": {
        "colab": {
          "base_uri": "https://localhost:8080/",
          "height": 809
        },
        "id": "2kzRcabnKj67",
        "outputId": "c36ff100-f5a0-4fda-bffe-29f7875ccb48"
      },
      "execution_count": 21,
      "outputs": [
        {
          "output_type": "execute_result",
          "data": {
            "text/plain": [
              "<Figure size 144x864 with 1 Axes>"
            ],
            "image/png": "[encoded data removed]"
          },
          "metadata": {},
          "execution_count": 21
        }
      ]
    },
    {
      "cell_type": "code",
      "source": [
        "well.plot(tracks=['GR', 'RHOB', 'NPHI'])"
      ],
      "metadata": {
        "id": "l7ymlj-CK444",
        "outputId": "2b58ab57-d0f1-4b29-bf3e-7137b0a01564",
        "colab": {
          "base_uri": "https://localhost:8080/",
          "height": 809
        }
      },
      "execution_count": 22,
      "outputs": [
        {
          "output_type": "execute_result",
          "data": {
            "text/plain": [
              "<Figure size 432x864 with 3 Axes>"
            ],
            "image/png": "[encoded data removed]"
          },
          "metadata": {},
          "execution_count": 22
        }
      ]
    }
  ]
}