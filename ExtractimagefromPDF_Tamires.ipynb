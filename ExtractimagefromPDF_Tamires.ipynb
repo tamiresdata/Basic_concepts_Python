{
  "nbformat": 4,
  "nbformat_minor": 0,
  "metadata": {
    "colab": {
      "name": "ExtractimagefromPDF_Tamires.ipynb",
      "provenance": []
    },
    "kernelspec": {
      "name": "python3",
      "display_name": "Python 3"
    },
    "language_info": {
      "name": "python"
    }
  },
  "cells": [
    {
      "cell_type": "code",
      "execution_count": null,
      "metadata": {
        "colab": {
          "base_uri": "https://localhost:8080/"
        },
        "id": "fFdOYNWnI3W4",
        "outputId": "ad7f2cfb-666a-402c-830c-0d8404e87a2d"
      },
      "outputs": [
        {
          "output_type": "stream",
          "name": "stdout",
          "text": [
            "Collecting PyMuPDF\n",
            "  Downloading PyMuPDF-1.19.6-cp37-cp37m-manylinux_2_17_x86_64.manylinux2014_x86_64.whl (8.8 MB)\n",
            "\u001b[K     |████████████████████████████████| 8.8 MB 10.1 MB/s \n",
            "\u001b[?25hInstalling collected packages: PyMuPDF\n",
            "Successfully installed PyMuPDF-1.19.6\n",
            "Requirement already satisfied: Pillow in /usr/local/lib/python3.7/dist-packages (7.1.2)\n"
          ]
        },
        {
          "output_type": "stream",
          "name": "stderr",
          "text": [
            "Deprecation: 'getImageList' removed from class 'Page' after v1.19 - use 'get_images'.\n",
            "Deprecation: 'extractImage' removed from class 'Document' after v1.19 - use 'extract_image'.\n"
          ]
        }
      ],
      "source": [
        "!pip install PyMuPDF\n",
        "!pip install Pillow\n",
        "# Import necessary libraries:\n",
        "import fitz\n",
        "import io\n",
        "from PIL import Image\n",
        "# open the desired PDF file:\n",
        "pdf = fitz.open(\"demo.pdf\")\n",
        "# Determine number of pages in the PDF file:\n",
        "pages = len(pdf)\n",
        "# Iterate over each of the PDF pages:\n",
        "# Index of 1st page -> 0\n",
        "for i in range(pages):\n",
        "    # Access the page at index 'i':\n",
        "    page = pdf[i]\n",
        "    # Access all image objects present in this page:\n",
        "    image_list = page.getImageList()\n",
        "    # Iterate through these image objects:\n",
        "    for image_count, img in enumerate(image_list, start=1):\n",
        "        # Access XREF of the image:\n",
        "        xref = img[0]\n",
        "        # Extract image information:\n",
        "        img_info = pdf.extractImage(xref)\n",
        "        # Extract image bytes:\n",
        "        image_bytes = img_info[\"image\"]\n",
        "        # Access image extension:\n",
        "        image_ext = img_info[\"ext\"]\n",
        "        # Load this image to PIL:\n",
        "        image = Image.open(io.BytesIO(image_bytes))\n",
        "        # To save this image:\n",
        "        image.save(open(f\"page{i+1}_image{image_count}.{image_ext}\", \"wb\"))"
      ]
    }
  ]
}